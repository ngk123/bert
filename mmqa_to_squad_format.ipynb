{
 "cells": [
  {
   "cell_type": "code",
   "execution_count": 17,
   "metadata": {
    "pycharm": {
     "is_executing": false
    }
   },
   "outputs": [],
   "source": [
    "import pandas as pd\n",
    "import json"
   ]
  },
  {
   "cell_type": "code",
   "execution_count": 18,
   "outputs": [],
   "source": [
    "def sanity_check_mmqa():\n",
    "    for i, (idx, row) in enumerate(df_mmqa.iterrows()):\n",
    "        try:\n",
    "            if row['Availability in'] == 'English':\n",
    "                assert not pd.isnull(row['Answer (English)'])\n",
    "                assert not pd.isnull(row['Answer String(English)'])\n",
    "                assert pd.isnull(row['Answer (Hindi)'])\n",
    "                assert pd.isnull(row['Answer String(Hindi)'])\n",
    "            if row['Availability in'] == 'Hindi':\n",
    "                assert pd.isnull(row['Answer (English)'])\n",
    "                assert pd.isnull(row['Answer String(English)'])\n",
    "                assert not pd.isnull(row['Answer (Hindi)'])\n",
    "                assert not pd.isnull(row['Answer String(Hindi)'])\n",
    "            if row['Availability in'] == 'Both':\n",
    "                assert not pd.isnull(row['Answer (English)'])\n",
    "                assert not pd.isnull(row['Answer String(English)'])\n",
    "                assert not pd.isnull(row['Answer (Hindi)'])\n",
    "                assert not pd.isnull(row['Answer String(Hindi)'])\n",
    "            assert not pd.isnull(row['Domain'])\n",
    "            assert not pd.isnull(row['Question (English)'])\n",
    "            assert not pd.isnull(row['Question (Hindi)'])\n",
    "        except AssertionError as error:\n",
    "            print(i, idx, row)\n",
    "            raise AssertionError\n",
    "            "
   ],
   "metadata": {
    "collapsed": false,
    "pycharm": {
     "name": "#%%\n",
     "is_executing": false
    }
   }
  },
  {
   "cell_type": "code",
   "execution_count": 19,
   "metadata": {
    "pycharm": {
     "is_executing": false,
     "name": "#%%\n"
    }
   },
   "outputs": [
    {
     "name": "stderr",
     "text": [
      "b'Skipping line 1203: expected 10 fields, saw 17\\nSkipping line 1233: expected 10 fields, saw 12\\nSkipping line 1315: expected 10 fields, saw 13\\nSkipping line 2671: expected 10 fields, saw 12\\n'\n"
     ],
     "output_type": "stream"
    },
    {
     "name": "stdout",
     "text": [
      "[(0, 'Question (English)'), (1, 'Question (Hindi)'), (2, 'Domain'), (3, 'Answer (English)'), (4, 'Answer String(English)'), (5, 'Answer (Hindi)'), (6, 'Answer String(Hindi)'), (7, 'Availability in'), (8, 'Answer Type')]\n"
     ],
     "output_type": "stream"
    }
   ],
   "source": [
    "df_mmqa = pd.read_csv(\"./translated_mmqa/QA_Pairs.tsv\", sep='\\t', encoding='UTF-8', header=0, index_col=0, error_bad_lines=False)\n",
    "df_mmqa.fillna(value=0)\n",
    "header_names = df_mmqa.columns\n",
    "print(list(enumerate(header_names)))      \n",
    "sanity_check_mmqa()"
   ]
  },
  {
   "cell_type": "code",
   "execution_count": 20,
   "metadata": {
    "pycharm": {
     "is_executing": false
    }
   },
   "outputs": [],
   "source": [
    "def convert_to_squad(question_type, snippet_type):\n",
    "    random_title = 'TITLE' \n",
    "    data = []\n",
    "    for idx, row in df_mmqa.iterrows():\n",
    "        answer = row['Answer (Hindi)'] if snippet_type is 'H' else row['Answer (English)']\n",
    "        context = row['Answer String(Hindi)'] if snippet_type is 'H' else row['Answer String(English)']\n",
    "        question = row['Question (Hindi)'] if question_type is 'H' else row['Question (English)']\n",
    "        if pd.isnull(question):\n",
    "            raise AssertionError(\"Question for {} is Nan. Data:{} \".format(idx, row))\n",
    "        if pd.isnull(answer) and pd.isnull(context):\n",
    "            continue\n",
    "        elif pd.isnull(answer) or pd.isnull(context):\n",
    "            raise AssertionError(\"Any of context or answer for {} is Nan. Data:{} \".format(idx, row))\n",
    "        qas = [{\n",
    "                \"id\": idx,\n",
    "                \"answers\": [\n",
    "                    {\n",
    "                        \"text\": answer,\n",
    "                        \"answer_start\": 0\n",
    "                    }\n",
    "                ],\n",
    "                \"is_impossible\": False if answer else True,\n",
    "                \"question\": question\n",
    "            }]\n",
    "        paragraphs = [{\n",
    "            'context': context,\n",
    "            'qas': qas\n",
    "        }]\n",
    "        data.append({\n",
    "            'paragraphs': paragraphs,\n",
    "            'title': random_title\n",
    "        }) \n",
    "            \n",
    "    return {\n",
    "        'data' : data,\n",
    "        'version' : 'v2.0'\n",
    "    }"
   ]
  },
  {
   "cell_type": "code",
   "execution_count": 21,
   "metadata": {
    "pycharm": {
     "is_executing": false,
     "name": "#%%\n"
    }
   },
   "outputs": [],
   "source": [
    "with open('./translated_mmqa/test_data_eq_ec.json', 'w', encoding='utf-8') as fp:\n",
    "    json.dump(convert_to_squad('E', 'E'), fp)\n",
    "with open('./translated_mmqa/test_data_eq_hc.json', 'w', encoding='utf-8') as fp:\n",
    "    json.dump(convert_to_squad('E', 'H'), fp)\n",
    "with open('./translated_mmqa/test_data_hq_ec.json', 'w', encoding='utf-8') as fp:\n",
    "    json.dump(convert_to_squad('H', 'E'), fp)\n",
    "with open('./translated_mmqa/test_data_hq_hc.json', 'w', encoding='utf-8') as fp:\n",
    "    json.dump(convert_to_squad('H', 'H'), fp)\n",
    "\n",
    "\n"
   ]
  }
 ],
 "metadata": {
  "kernelspec": {
   "display_name": "Python 3",
   "language": "python",
   "name": "python3"
  },
  "language_info": {
   "codemirror_mode": {
    "name": "ipython",
    "version": 3
   },
   "file_extension": ".py",
   "mimetype": "text/x-python",
   "name": "python",
   "nbconvert_exporter": "python",
   "pygments_lexer": "ipython3",
   "version": "3.7.6"
  },
  "pycharm": {
   "stem_cell": {
    "cell_type": "raw",
    "source": [],
    "metadata": {
     "collapsed": false
    }
   }
  }
 },
 "nbformat": 4,
 "nbformat_minor": 1
}