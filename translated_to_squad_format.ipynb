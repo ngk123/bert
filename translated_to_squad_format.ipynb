{
 "cells": [
  {
   "cell_type": "code",
   "execution_count": 3,
   "metadata": {
    "pycharm": {
     "is_executing": false
    }
   },
   "outputs": [],
   "source": [
    "import pandas as pd\n",
    "import numpy as np"
   ]
  },
  {
   "cell_type": "code",
   "execution_count": 9,
   "metadata": {},
   "outputs": [
    {
     "name": "stdout",
     "output_type": "stream",
     "text": [
      "<bound method NDFrame.head of      What was Nasser's cabinet's knowledge of the nationalization scheme before Nasser announced it?  \\\n",
      "0                     Does giant killing happen often?                                                 \n",
      "1                           When did Pope Pius XII die?                                                \n",
      "2     Who performed live with Queen on The Show Must...                                                \n",
      "3          Which Nobel Prize winner graduated from BYU?                                                \n",
      "4     On what date was the 2007/2008 Human Developme...                                                \n",
      "...                                                 ...                                                \n",
      "5989            Aquila chrysaetos is what type of bird?                                                \n",
      "5990                Where was the Observer Corps based?                                                \n",
      "5991       What is the province traditionally known as?                                                \n",
      "5992  South Africa's Medicines Act allowed for the g...                                                \n",
      "5993  When was the provisional government of the Dem...                                                \n",
      "\n",
      "                                                unaware  \\\n",
      "0     Almost every club in the League Pyramid has a ...   \n",
      "1                                        9 October 1958   \n",
      "2                      Elton John and the Béjart Ballet   \n",
      "3                                         Paul D. Boyer   \n",
      "4                                    November 27 , 2007   \n",
      "...                                                 ...   \n",
      "5989                                       golden eagle   \n",
      "5990                                            Britain   \n",
      "5991                              Land of Fish and Rice   \n",
      "5992                                     antiretroviral   \n",
      "5993                                       7 March 1945   \n",
      "\n",
      "     Nasser was informed of the British–American withdrawal via a news statement while aboard a plane returning to Cairo from Belgrade, and took great offense. Although ideas for nationalizing the Suez Canal were in the offing after the UK agreed to withdraw its military from Egypt in 1954 (the last British troops left on 13 June 1956), journalist Mohamed Hassanein Heikal asserts that Nasser made the final decision to nationalize the waterway between 19 and 20 July. Nasser himself would later state that he decided on 23 July, after studying the issue and deliberating with some of his advisers from the dissolved RCC, namely Boghdadi and technical specialist Mahmoud Younis, beginning on 21 July. The rest of the RCC's former members were informed of the decision on 24 July, while the bulk of the cabinet was unaware of the nationalization scheme until hours before Nasser publicly announced it. According to Ramadan, Nasser's decision to nationalize the canal was a solitary decision, taken without consultation.  \\\n",
      "0     The possibility of unlikely victories in the e...                                                                                                                                                                                                                                                                                                                                                                                                                                                                                                                                                                                                                                                                                                                                                                                                                                                                                                                                                                                                        \n",
      "1     Following the death of Pope Pius XII on 9 Octo...                                                                                                                                                                                                                                                                                                                                                                                                                                                                                                                                                                                                                                                                                                                                                                                                                                                                                                                                                                                                        \n",
      "2     In 1997, Queen returned to the studio to recor...                                                                                                                                                                                                                                                                                                                                                                                                                                                                                                                                                                                                                                                                                                                                                                                                                                                                                                                                                                                                        \n",
      "3     BYU alumni in academia include former Dean of ...                                                                                                                                                                                                                                                                                                                                                                                                                                                                                                                                                                                                                                                                                                                                                                                                                                                                                                                                                                                                        \n",
      "4     The Human Development Report for 2007/2008 was...                                                                                                                                                                                                                                                                                                                                                                                                                                                                                                                                                                                                                                                                                                                                                                                                                                                                                                                                                                                                        \n",
      "...                                                 ...                                                                                                                                                                                                                                                                                                                                                                                                                                                                                                                                                                                                                                                                                                                                                                                                                                                                                                                                                                                                        \n",
      "5989  The state is also a host to a large population...                                                                                                                                                                                                                                                                                                                                                                                                                                                                                                                                                                                                                                                                                                                                                                                                                                                                                                                                                                                                        \n",
      "5990  From the early 1930s eight countries developed...                                                                                                                                                                                                                                                                                                                                                                                                                                                                                                                                                                                                                                                                                                                                                                                                                                                                                                                                                                                                        \n",
      "5991  The province is traditionally known as the \"La...                                                                                                                                                                                                                                                                                                                                                                                                                                                                                                                                                                                                                                                                                                                                                                                                                                                                                                                                                                                                        \n",
      "5992  In March 2001, 40 multi-national pharmaceutica...                                                                                                                                                                                                                                                                                                                                                                                                                                                                                                                                                                                                                                                                                                                                                                                                                                                                                                                                                                                                        \n",
      "5993  On 7 March 1945, the provisional government of...                                                                                                                                                                                                                                                                                                                                                                                                                                                                                                                                                                                                                                                                                                                                                                                                                                                                                                                                                                                                        \n",
      "\n",
      "      149  149.1  \\\n",
      "0      60     75   \n",
      "1       8     10   \n",
      "2      68     73   \n",
      "3      93     95   \n",
      "4      14     17   \n",
      "...   ...    ...   \n",
      "5989   77     78   \n",
      "5990   39     39   \n",
      "5991    8     12   \n",
      "5992   24     24   \n",
      "5993    1      3   \n",
      "\n",
      "     नासिर ने यह घोषणा करने से पहले नासिर के कैबिनेट की राष्ट्रीयकरण योजना का ज्ञान क्या था?  \\\n",
      "0                          क्या बड़ी मौत अक्सर होता है?                                        \n",
      "1                           पोप पायस बारहवीं कब मर गया?                                        \n",
      "2     किसने 1 99 7 में शो अव्वल गोइन ऑन रानी पर लाइव...                                        \n",
      "3      किस नोबेल पुरस्कार विजेता ने BYU से स्नातक किया?                                        \n",
      "4     2007/2008 मानव विकास रिपोर्ट को किस तिथि पर जा...                                        \n",
      "...                                                 ...                                        \n",
      "5989         अक्विला क्रिससाटोस किस प्रकार का पक्षी है?                                        \n",
      "5990                       ऑब्ज़र्वर कोर कहाँ स्थित था?                                        \n",
      "5991   प्रांत के रूप में जाना जाने वाला प्रांत क्या है?                                        \n",
      "5992  दक्षिण अफ्रीका की मेडिसिन अधिनियम किस प्रकार क...                                        \n",
      "5993  डेमोक्रेटिक संघीय यूगोस्लाविया की अनंतिम सरकार...                                        \n",
      "\n",
      "                                                  अनजान  \\\n",
      "0     लीग पिरामिड में लगभग हर क्लब का अपने इतिहास मे...   \n",
      "1                                      9 अक्टूबर 1 9 58   \n",
      "2                              एल्टन जॉन और बेजर्ट बैले   \n",
      "3                                          पॉल डी। बॉयर   \n",
      "4                                        27 नवंबर, 2007   \n",
      "...                                                 ...   \n",
      "5989                                         गोल्डन ईगल   \n",
      "5990                                            ब्रिटेन   \n",
      "5991                               मछली और चावल की भूमि   \n",
      "5992                                    एंटीरेट्रोवाइरल   \n",
      "5993                                     7 मार्च 1 9 45   \n",
      "\n",
      "     नासिर को एक समाचार बयान के माध्यम से ब्रिटिश-अमरीकी वापसी के बारे में सूचित किया गया था, जबकि एक विमान बेल्ग्राद से काहिरा लौट रहा था, और महान अपराध लिया। यद्यपि 1 9 54 में मिस्र से अपनी सेना को वापस लेने के लिए सहमत हुए सुएज नहर का राष्ट्रीयकरण करने के लिए विचारों के चलते थे, (अंतिम ब्रिटिश सैनिकों को 13 जून 1 9 56 को छोड़ दिया गया था), पत्रकार मोहम्मद हसाणेिन हिकाल ने दावा किया कि नासर ने जलमार्ग को राष्ट्रीयकरण करने का अंतिम फैसला किया 1 9 और 20 जुलाई के बीच नासर ने बाद में कहा था कि उन्होंने 23 जुलाई को इस मुद्दे का अध्ययन करने के बाद निर्णय लिया और 21 जुलाई से शुरू हुई भंग आरसीसी, बोगदादी और तकनीकी विशेषज्ञ महमूद यूनिस से उनके कुछ सलाहकारों के साथ विचार-विमर्श करने के बाद फैसला किया। शेष आरसीसी के पूर्व सदस्यों को 24 जुलाई को निर्णय के बारे में सूचित किया गया था, जबकि कैबिनेट का बड़ा हिस्सा राष्ट्रीयकरण योजना से अनजान था जब तक नासर ने इसे सार्वजनिक तौर पर घोषणा नहीं की थी। रमजान के अनुसार, नहर को राष्ट्रीयकृत करने के नासर के निर्णय एक एकमात्र निर्णय था, परामर्श के बिना लिया।  \\\n",
      "0     प्रतियोगिता के पहले राउंड में होने वाली संभावन...                                                                                                                                                                                                                                                                                                                                                                                                                                                                                                                                                                                                                                                                                                                                                                                                                                                                                                                                                                                   \n",
      "1     9 अक्टूबर 1 9 58 को पोप पायस बारहवीं की मौत के...                                                                                                                                                                                                                                                                                                                                                                                                                                                                                                                                                                                                                                                                                                                                                                                                                                                                                                                                                                                   \n",
      "2     1 99 7 में, रानी स्टूडियो में \"नो-वन लेकिन आप ...                                                                                                                                                                                                                                                                                                                                                                                                                                                                                                                                                                                                                                                                                                                                                                                                                                                                                                                                                                                   \n",
      "3     शिक्षा के क्षेत्र में बीईयू पूर्व छात्रों में ...                                                                                                                                                                                                                                                                                                                                                                                                                                                                                                                                                                                                                                                                                                                                                                                                                                                                                                                                                                                   \n",
      "4     2007/2008 के लिए मानव विकास रिपोर्ट ब्राज़ीलिय...                                                                                                                                                                                                                                                                                                                                                                                                                                                                                                                                                                                                                                                                                                                                                                                                                                                                                                                                                                                   \n",
      "...                                                 ...                                                                                                                                                                                                                                                                                                                                                                                                                                                                                                                                                                                                                                                                                                                                                                                                                                                                                                                                                                                   \n",
      "5989  राज्य पक्षी की एक बड़ी आबादी भी है जिसमें स्था...                                                                                                                                                                                                                                                                                                                                                                                                                                                                                                                                                                                                                                                                                                                                                                                                                                                                                                                                                                                   \n",
      "5990  1 9 30 के शुरुआती आठ देशों से रडार विकसित हुए,...                                                                                                                                                                                                                                                                                                                                                                                                                                                                                                                                                                                                                                                                                                                                                                                                                                                                                                                                                                                   \n",
      "5991  प्रांत को परंपरागत रूप से \"मछली और चावल की भूम...                                                                                                                                                                                                                                                                                                                                                                                                                                                                                                                                                                                                                                                                                                                                                                                                                                                                                                                                                                                   \n",
      "5992  मार्च 2001 में, 40 बहुराष्ट्रीय फार्मास्युटिकल...                                                                                                                                                                                                                                                                                                                                                                                                                                                                                                                                                                                                                                                                                                                                                                                                                                                                                                                                                                                   \n",
      "5993  7 मार्च 1 9 45 को, डेमोक्रेटिक संघीय यूगोस्लाव...                                                                                                                                                                                                                                                                                                                                                                                                                                                                                                                                                                                                                                                                                                                                                                                                                                                                                                                                                                                   \n",
      "\n",
      "      167  167.1  Unnamed: 10  \n",
      "0      63     82          NaN  \n",
      "1       0      4          NaN  \n",
      "2      62     66          NaN  \n",
      "3      74     76          NaN  \n",
      "4       9     11          NaN  \n",
      "...   ...    ...          ...  \n",
      "5989   60     61          NaN  \n",
      "5990   56     56          NaN  \n",
      "5991    5      9          NaN  \n",
      "5992   25     25          NaN  \n",
      "5993    0      4          NaN  \n",
      "\n",
      "[5994 rows x 11 columns]>\n"
     ]
    },
    {
     "name": "stderr",
     "output_type": "stream",
     "text": [
      "b'Skipping line 633: expected 11 fields, saw 16\\nSkipping line 2064: expected 11 fields, saw 16\\n'\n"
     ]
    }
   ],
   "source": [
    "f = open(\"../translated/test_data.txt\")\n",
    "df = pd.read_csv(f, sep='\\t', encoding='UTF-8', error_bad_lines=False)"
   ]
  },
  {
   "cell_type": "code",
   "execution_count": null,
   "metadata": {},
   "outputs": [],
   "source": []
  },
  {
   "cell_type": "code",
   "execution_count": null,
   "metadata": {},
   "outputs": [],
   "source": []
  }
 ],
 "metadata": {
  "kernelspec": {
   "display_name": "Python 3",
   "language": "python",
   "name": "python3"
  },
  "language_info": {
   "codemirror_mode": {
    "name": "ipython",
    "version": 3
   },
   "file_extension": ".py",
   "mimetype": "text/x-python",
   "name": "python",
   "nbconvert_exporter": "python",
   "pygments_lexer": "ipython3",
   "version": "3.7.6"
  }
 },
 "nbformat": 4,
 "nbformat_minor": 1
}
